{
  "nbformat": 4,
  "nbformat_minor": 0,
  "metadata": {
    "colab": {
      "provenance": []
    },
    "kernelspec": {
      "name": "python3",
      "display_name": "Python 3"
    },
    "language_info": {
      "name": "python"
    }
  },
  "cells": [
    {
      "cell_type": "markdown",
      "source": [
        "Code adapted from https://github.com/yfletberliac/rlss-2019 (Practical Sessions of RLSS 2019: Bandits, RL & Deep RL. https://rlss.inria.fr/program/)"
      ],
      "metadata": {
        "id": "VM-z6PWdmfcO"
      }
    },
    {
      "cell_type": "code",
      "execution_count": 102,
      "metadata": {
        "id": "OR0Kb1EH1jC7"
      },
      "outputs": [],
      "source": [
        "import numpy as np\n",
        "import sklearn.datasets as datasets\n",
        "from sklearn.model_selection import train_test_split as split\n",
        "import matplotlib.pyplot as plt"
      ]
    },
    {
      "cell_type": "markdown",
      "source": [
        "# 1. Multi-Armed Bandit Problems\n",
        "We study the classical multi-armed bandit problem specified by a set of real-valued\n",
        "distributions $ (\\nu_a)_{a \\in \\mathcal{A}}$ with means $(\\mu_a)_{a \\in \\mathcal{A}} \\in \\mathbb{R}^\\mathcal{A}$, where $\\mathcal{A}$ is a finite set of arms.\n",
        "## 1.1 Bandit Arms"
      ],
      "metadata": {
        "id": "nZs3oqWpEY53"
      }
    },
    {
      "cell_type": "code",
      "source": [
        "# A generic bandit arm class has one\n",
        "# method to sample a reward from a probability distribution\n",
        "\n",
        "class Arm:\n",
        "    def __init__(self, mean: float):\n",
        "        self.mean = mean\n",
        "        pass\n",
        "    def sample_reward(self):\n",
        "        raise NotImplementedError\n",
        "\n",
        "# For example, a Bernoulli bandit arm looks like this\n",
        "class BernoulliArm(Arm):\n",
        "    def __init__(self, p:float):\n",
        "        # create a Bernoulli arm with mean p\n",
        "        super().__init__(mean=p)\n",
        "\n",
        "    def sample(self):\n",
        "        # generate a reward from a Bernoulli arm\n",
        "        return np.random.random() < self.mean\n",
        "\n",
        "class ExponentialArm(Arm):\n",
        "    def __init__(self, beta:float):\n",
        "        super().__init__(mean=beta)\n",
        "\n",
        "    def sample(self):\n",
        "        return np.random.exponential(scale=self.mean)"
      ],
      "metadata": {
        "id": "L72U52MD1syW"
      },
      "execution_count": 103,
      "outputs": []
    },
    {
      "cell_type": "markdown",
      "source": [
        "## 1.2 Exercise 1: Implement a bandit arm class with Gaussian distribution."
      ],
      "metadata": {
        "id": "aHrVcTT8E67i"
      }
    },
    {
      "cell_type": "code",
      "source": [
        "class GaussianArm(Arm):\n",
        "    def __init__(self, mean: float, var: float):\n",
        "        # TODO\n",
        "        pass\n",
        "\n",
        "    def sample(self):\n",
        "        # TODO\n",
        "        pass"
      ],
      "metadata": {
        "id": "P_MDyjd5FFSx"
      },
      "execution_count": 104,
      "outputs": []
    },
    {
      "cell_type": "markdown",
      "source": [
        "## 1.3 A Multi-Armed Bandit (MAB)."
      ],
      "metadata": {
        "id": "0BMkYzt5GYrC"
      }
    },
    {
      "cell_type": "code",
      "source": [
        "# We now write a generic MAB problem.\n",
        "# When pulling arm K of a bandit problem, a learning agent gets an instantinuous\n",
        "# reward and a regret value that is the difference between this reward and the best\n",
        "# mean over all arms.\n",
        "\n",
        "class MAB:\n",
        "    def __init__(self, arms: list[Arm]):\n",
        "        self.arms = arms\n",
        "        # We compute the max over arms means for regret computations\n",
        "        self.best_arm_mean = max([arm.mean for arm in self.arms])\n",
        "\n",
        "    def sample(self, arm_number: int):\n",
        "        reward = self.arms[arm_number].sample()\n",
        "        regret = self.best_arm_mean - reward\n",
        "        return reward, regret\n",
        "\n",
        "# A bandit problem with two exponential arms and one Bernoulli arm\n",
        "test_mab = MAB([ExponentialArm(beta=0.3), ExponentialArm(beta=0.1), BernoulliArm(p=0.7)])\n",
        "reward, regret = test_mab.sample(arm_number=0)"
      ],
      "metadata": {
        "id": "KQS3UnMXGdLz"
      },
      "execution_count": 105,
      "outputs": []
    },
    {
      "cell_type": "markdown",
      "source": [
        "## 1.4 Exercise 2: Implement a simple MAB class where all the arms are Bernoulli distributed. Instantiate this class by passing a list of means."
      ],
      "metadata": {
        "id": "NZTbW_kBLi2G"
      }
    },
    {
      "cell_type": "code",
      "source": [
        "class MABBernoulli(MAB):\n",
        "    def __init__(self, list_means: list[float]):\n",
        "        # TODO\n",
        "        pass"
      ],
      "metadata": {
        "id": "P-lmFRHXLwY_"
      },
      "execution_count": 106,
      "outputs": []
    },
    {
      "cell_type": "markdown",
      "source": [
        "## 1.5 Cumultative Regret Minimization\n",
        "At each time $t \\geq 1$, a learner must choose an arm $a_t \\in \\mathcal{A}$, based only on\n",
        "the past. The learner then receives and observes a reward $X_t$ sampled according to $\\nu_{a_t}$. The goal of the learner is simply to maximize the expected sum of rewards received over time, or equivalently minimize regret\n",
        "with respect to the strategy constantly receiving the highest mean reward."
      ],
      "metadata": {
        "id": "rOKn44GJNEvY"
      }
    },
    {
      "cell_type": "code",
      "source": [
        "# Bandit algorithms learn arm pulling strategies to minimize the cumulative regret over T pulls.\n",
        "def cumul_regret(regrets: list[float]):\n",
        "    return np.cumsum(regrets)"
      ],
      "metadata": {
        "id": "xYg_DN4sNlso"
      },
      "execution_count": 107,
      "outputs": []
    },
    {
      "cell_type": "markdown",
      "source": [
        "# 2. Bandit Algorithms\n",
        "## 2.1 Uniform Sampling"
      ],
      "metadata": {
        "id": "x0uan4clUknh"
      }
    },
    {
      "cell_type": "code",
      "source": [
        "# A bandit algorithm has one key component which is the sampling strategy (which arm to pull ater T pulls).\n",
        "\n",
        "class BanditAlgo:\n",
        "    def __init__(self, mab: MAB):\n",
        "        self.mab = mab\n",
        "        self.rewards = []\n",
        "        self.regrets = []\n",
        "        self.arms_drawn = []\n",
        "\n",
        "    def sampling(self, timesteps_T: int):\n",
        "        # Where to implement the sampling strategies\n",
        "        raise NotImplementedError\n",
        "\n",
        "# The most naive bandit algorithm is to draw arms at random.\n",
        "class UniformSamplingAlgo(BanditAlgo):\n",
        "    def __init__(self, mab: MAB):\n",
        "        super().__init__(mab=mab)\n",
        "\n",
        "    def sampling(self, timesteps_T: int):\n",
        "        for i in range(timesteps_T):\n",
        "            arm_to_pull = np.random.randint(0, len(self.mab.arms))\n",
        "            reward, regret = self.mab.sample(arm_to_pull)\n",
        "            self.rewards.append(reward)\n",
        "            self.regrets.append(regret)\n",
        "            self.arms_drawn.append(arm_to_pull)"
      ],
      "metadata": {
        "id": "l_p5eg7ZUwpT"
      },
      "execution_count": 108,
      "outputs": []
    },
    {
      "cell_type": "markdown",
      "source": [
        "## 2.2 Naive algorithms: Follow the Leader (FTL) and Explore then Commit (ETC)"
      ],
      "metadata": {
        "id": "b8ypl1o2npkC"
      }
    },
    {
      "cell_type": "code",
      "source": [
        "# Other naive algorithms include Follow the Leader and Explore then Commit. They\n",
        "# both sample each arm at least once before pulling the best arm for the rest of\n",
        "# the time.\n",
        "class FollowTheLeader(BanditAlgo):\n",
        "    def __init__(self, mab: MAB):\n",
        "        super().__init__(mab=mab)\n",
        "\n",
        "    def sampling(self, timesteps_T: int):\n",
        "        for i in range(timesteps_T):\n",
        "            if i < len(self.mab.arms):\n",
        "                arm_to_pull = i\n",
        "                reward, regret = self.mab.sample(arm_to_pull)\n",
        "                best_arm_pull = np.argmax(self.rewards)\n",
        "                best_arm = self.arms_drawn[best_arm_pull]\n",
        "            else:\n",
        "                arm_to_pull = best_arm\n",
        "                reward, regret = self.mab.sample(arm_to_pull)\n",
        "            self.rewards.append(reward)\n",
        "            self.regrets.append(regret)\n",
        "            self.arms_drawn.append(arm_to_pull)\n",
        "\n",
        "class ExploreThenCommit(BanditAlgo):\n",
        "    def __init__(self, mab: MAB, explore_fraction: float):\n",
        "        super().__init__(mab=mab)\n",
        "        self.explore_fraction = explore_fraction\n",
        "\n",
        "    def sampling(self, timesteps_T: int):\n",
        "        explore_steps = timesteps_T // self.explore_fraction\n",
        "        for i in range(timesteps_T):\n",
        "            if i < explore_steps:\n",
        "                arm_to_pull = np.random.randint(0, len(self.mab.arms))\n",
        "                reward, regret = self.mab.sample(arm_to_pull)\n",
        "                best_arm_pull = np.argmax(self.rewards)\n",
        "                best_arm = self.arms_drawn[best_arm_pull]\n",
        "            else:\n",
        "                arm_to_pull = best_arm\n",
        "                reward, regret = self.mab.sample(arm_to_pull)\n",
        "            self.rewards.append(reward)\n",
        "            self.regrets.append(regret)\n",
        "            self.arms_drawn.append(arm_to_pull)"
      ],
      "metadata": {
        "id": "ODmN6IamnZvU"
      },
      "execution_count": 109,
      "outputs": []
    },
    {
      "cell_type": "code",
      "source": [
        "# A plotting function\n",
        "def plot_mean_std_cumul_regret(regret_matrix: list[list[float]], algo_name: str):\n",
        "    means = regret_matrix.mean(axis=0)\n",
        "    stds = regret_matrix.std(axis=0)\n",
        "    plt.plot(means, label=algo_name)\n",
        "    plt.fill_between(np.arange(len(means)), means - stds, means + stds, alpha = 0.3)\n"
      ],
      "metadata": {
        "id": "v1L5wLcsh7nh"
      },
      "execution_count": 110,
      "outputs": []
    },
    {
      "cell_type": "code",
      "source": [
        "# Example of Uniform Sampling algo on a two-armed Bernoulli bandit\n",
        "\n",
        "# MAB problem\n",
        "mab = MAB([BernoulliArm(p=0.2), BernoulliArm(p=0.6)])\n",
        "# Experimental Setup\n",
        "repetitions = 1000\n",
        "timesteps_per_repet = 100\n",
        "cum_regrets = np.zeros((repetitions, timesteps_per_repet))\n",
        "\n",
        "for rep in range(repetitions):\n",
        "    unif = UniformSamplingAlgo(mab)\n",
        "    unif.sampling(timesteps_per_repet)\n",
        "    cum_regrets[rep] = cumul_regret(unif.regrets)\n",
        "plot_mean_std_cumul_regret(cum_regrets, 'uniform')\n",
        "plt.legend()\n",
        "plt.xlabel(\"T\")\n",
        "plt.ylabel(\"Cumulative Regret\")"
      ],
      "metadata": {
        "colab": {
          "base_uri": "https://localhost:8080/",
          "height": 466
        },
        "id": "6b5CKeVCgcVB",
        "outputId": "82dea2be-e7b2-4fb6-fe1c-bc1803de486d"
      },
      "execution_count": 111,
      "outputs": [
        {
          "output_type": "execute_result",
          "data": {
            "text/plain": [
              "Text(0, 0.5, 'Cumulative Regret')"
            ]
          },
          "metadata": {},
          "execution_count": 111
        },
        {
          "output_type": "display_data",
          "data": {
            "text/plain": [
              "<Figure size 640x480 with 1 Axes>"
            ],
            "image/png": "[encoded data removed]"
          },
          "metadata": {}
        }
      ]
    },
    {
      "cell_type": "markdown",
      "source": [
        "## 2.3 Exercise 3: Plot the cumulative regret of bandit algorithms Uniform, FTL, and ETC on a Bernoulli MAB problem. Try different exploration rates for ETC."
      ],
      "metadata": {
        "id": "CbPNMHMngHKi"
      }
    },
    {
      "cell_type": "code",
      "source": [
        "# MAB problem\n",
        "mab = MAB([BernoulliArm(p=0.2), BernoulliArm(p=0.4), BernoulliArm(p=0.5)])\n",
        "# Experimental Setup\n",
        "repetitions = 1000\n",
        "timesteps_per_repet = 100\n",
        "cum_regrets = np.zeros((repetitions, timesteps_per_repet))\n",
        "# TODO"
      ],
      "metadata": {
        "id": "VyAeM7avkfRI"
      },
      "execution_count": 112,
      "outputs": []
    },
    {
      "cell_type": "markdown",
      "source": [
        "# 3. Advanced Bandit Algorithms"
      ],
      "metadata": {
        "id": "r4pEhZXYnqa7"
      }
    },
    {
      "cell_type": "markdown",
      "source": [
        "## 3.1 Exercise 4: Implement the Upper Confidence Bound algorithm [UCB](https://fr.wikipedia.org/wiki/Algorithme_UCB)\n",
        "For an arm $a \\in \\mathcal{A}$ and a time step $t\\geq 1$, the Upper Confidence Bound is defined as foollows:\n",
        "$$ U_a(t) = \\hat\\mu_a(t)+ \\sqrt{\\frac{\\log\\!\\left(1/\\delta_t\\right)}{2N_a(t)}} \\,, $$\n",
        "with $ \\delta_t=t^{-2}(t+1)^{-1}$.\n",
        "\n",
        "\n",
        "UCB is the strategy that consists in pulling an arm with maximal upper confidence bound at each time step:\n",
        "$$ a_{t+1} = \\arg\\!\\max_{a \\in \\mathcal{A}}U_a(t)  \\,.$$"
      ],
      "metadata": {
        "id": "tvtdyC7Jn1PQ"
      }
    },
    {
      "cell_type": "code",
      "source": [
        "class UpperConfBounds(BanditAlgo):\n",
        "    def __init__(self, mab: MAB, alpha: float=0.5):\n",
        "        super().__init__(mab=mab)\n",
        "        self.alpha = alpha\n",
        "        self.Qs = [[] for arm in self.mab.arms]\n",
        "        self.Ns = [[] for arm in self.mab.arms]\n",
        "\n",
        "    def sampling(self, timesteps_T: int):\n",
        "        # TODO\n",
        "        pass"
      ],
      "metadata": {
        "id": "Wd6aOieUq2pr"
      },
      "execution_count": 113,
      "outputs": []
    },
    {
      "cell_type": "markdown",
      "source": [
        "## 3.2 Exercise 5: Implement the Thompson Sampling algorithm [TS](https://) with Beta prior and Bernoulli likelihood\n",
        "For all arm $a \\in \\mathcal{A}$, for all time step  $t \\geq 1$, the cumulative reward from arm $a$ at time $t$ is $$S_a(t) = \\sum\\limits_{s = 1}^t \\mathbb{1}_{\\{a_s = a\\}}X_s\\,, $$\n",
        "and the number of pulls of arm $a$ at time $t$ is\n",
        "$$N_a(t) = \\sum\\limits_{ s=1}^t \\mathbb{1}_{\\{ a_s = a\\}} \\,.$$\n",
        "\n",
        "In a Bayesian view on the MAB, the $(\\mu_a)_{a\\in\\mathcal{A}}$ are no longer seen as unknown parameters but as (independent)random variables following a uniform distribution. The posterior distribution on the arm $a$ at time $t$ of the bandit game is the distribution of $\\mu_a$ conditional to the observations from arm $a$ gathered up to\n",
        "time $t$ and it is denoted $\\pi_a(t)$ . Each sample from arm $a$ leads to an update of this posterior distribution.\n",
        "\n",
        "\n",
        "TS is the strategy that consists in drawing $\\theta_a(t)\\sim \\pi_a(t)=Beta(N_a(t) + 1, N_a(t) - S_a(t) + 1)$ at time step t and for each arm $a$, then pulling the arm:\n",
        "$$ a_{t+1} = \\arg\\!\\max_{a \\in \\mathcal{A}}\\theta_a(t)  \\,.$$"
      ],
      "metadata": {
        "id": "dvKQxgAko9dZ"
      }
    },
    {
      "cell_type": "code",
      "source": [
        "class ThompsonSampling(BanditAlgo):\n",
        "    def __init__(self, mab: MAB, a: int=1, b: int=1):\n",
        "        super().__init__(mab=mab)\n",
        "        self.a = a\n",
        "        self.b = b\n",
        "\n",
        "    def sampling(self, timesteps_T: int):\n",
        "        # TODO\n",
        "        pass"
      ],
      "metadata": {
        "id": "3cwV7P8KqT2J"
      },
      "execution_count": 114,
      "outputs": []
    },
    {
      "cell_type": "markdown",
      "source": [
        "# **Graded Home Assignment 1. Contextual Bandits.**\n",
        "## 1. Learning a classifier with contextual bandits.\n",
        "A supervised classification problem $(X,y)$ with $X$ the dataset features in $\\mathbb{R}^{N \\times d}$ and $y$ the classes vector in $\\{1,...,K\\}^N$ can be formulated as a [contextual bandits problem](https://tor-lattimore.com/downloads/book/book.pdf) formalized as follows. At time $t$ a learner observes a context vector $x_n$ drawn at random from $X$. The learner then pulls an arm $a \\in A = \\{1, ..., K\\}$ based on $x_n$ and receives a binary reward $\\mathbb{1}_{\\{a=y_n\\}}$. Learning a function $f:X\\rightarrow A$ that maximizes the expected cumulative reward $\\mathbb{E}_{x_n \\sim X}[∑_{t=0}^T \\mathbb{1}_{\\{f(x_n)=y_n\\}}]$ is learning a classifier that minimizes the misclassficiation rate.\n",
        "\n",
        "For reference, see sections 5.1 and following of this [scientific article](https://arxiv.org/abs/1103.4601)."
      ],
      "metadata": {
        "id": "8w8Z-r0pr3qh"
      }
    },
    {
      "cell_type": "code",
      "source": [
        "# Note that a contextual bandits arm conditioned on the probability of observing\n",
        "# a given context returns either 0 or 1. The arm could also be defined\n",
        "# independently of the context and in that case it is a Bernoulli which mean is\n",
        "# the proportion of data in class k.\n",
        "class ClassLabelArm:\n",
        "    def __init__(self, label:int):\n",
        "        self.label = label\n",
        "\n",
        "    def sample_reward(self, predicted_label:int):\n",
        "        return self.label == predicted_label"
      ],
      "metadata": {
        "id": "CaM22MzL0N-P"
      },
      "execution_count": 115,
      "outputs": []
    },
    {
      "cell_type": "code",
      "source": [
        "class SupervisedLearningAsBandits:\n",
        "    def __init__(self, X:list[list[float]], y:list[int]):\n",
        "        self.arms = [ClassLabelArm(k) for k in set(y)]\n",
        "        self.current_context = None\n",
        "        self._current_true_label = None\n",
        "\n",
        "    def get_context(self):\n",
        "        rdm_context_idx = np.random.choice(np.arange(len(X)))\n",
        "        self.current_context = X[rdm_context_idx]\n",
        "        self._current_true_label = y[rdm_context_idx]\n",
        "        return self.current_context\n",
        "\n",
        "    def sample(self, arm_number:int):\n",
        "        reward = self.arms[arm_number].sample_reward(self._current_true_label)\n",
        "        regret = 1 - reward\n",
        "        return reward, regret\n"
      ],
      "metadata": {
        "id": "RiUNgmI0z1jW"
      },
      "execution_count": 116,
      "outputs": []
    },
    {
      "cell_type": "markdown",
      "source": [
        "## 2. Contextual bandits algorithms.\n",
        "We now provide a base class for a learning algorithms that pulls arm depending on the observed context. Similarly to classical multi-armed bandits, one can define a Uniform Sampler that pulls arms indenpendently of the context. The counterpart of this random algorithms is a learner (that is not one) that stores in memory all the observed context and the associated true class label. Note that the later algorithm is memory ineficient and cannot generalize to unseen data. Furthermore, a learner must not observe the true class label when an arm is pulled, but only th 0-1 reward. The memory based bandits algorithm is provided as an overpowered baseline."
      ],
      "metadata": {
        "id": "CXrM7gl7AUrQ"
      }
    },
    {
      "cell_type": "code",
      "source": [
        "class ContextualBanditsAlgo:\n",
        "    def __init__(self, contextual_bandits:SupervisedLearningAsBandits):\n",
        "        self.mab = contextual_bandits\n",
        "        self.rewards = []\n",
        "        self.regrets = []\n",
        "        self.arms_drawn = []\n",
        "\n",
        "    def arm_to_pull(self, context:list[float]):\n",
        "        raise NotImplementedError\n",
        "\n",
        "    def sampling(self, timesteps_T:int):\n",
        "        raise NotImplementedError\n",
        "\n",
        "class UniformSamplingForCB(ContextualBanditsAlgo):\n",
        "    def __init__(self, contextual_bandits:SupervisedLearningAsBandits):\n",
        "        super().__init__(contextual_bandits)\n",
        "\n",
        "    def arm_to_pull(self, context:list[float]):\n",
        "        return np.random.randint(len(self.mab.arms))\n",
        "\n",
        "    def sampling(self, timesteps_T:int):\n",
        "        for t in range(timesteps_T):\n",
        "            ctxt = self.mab.get_context()\n",
        "            arm_to_pull = self.arm_to_pull(ctxt)\n",
        "            reward, regret = self.mab.sample(arm_to_pull)\n",
        "            self.rewards.append(reward)\n",
        "            self.regrets.append(regret)\n",
        "            self.arms_drawn.append(arm_to_pull)\n",
        "\n",
        "class ContextMemory(ContextualBanditsAlgo):\n",
        "    def __init__(self, contextual_bandits:SupervisedLearningAsBandits):\n",
        "        super().__init__(contextual_bandits)\n",
        "        self.memory = dict()\n",
        "\n",
        "    def arm_to_pull(self, context:list[float]):\n",
        "        if tuple(context) not in self.memory.keys():\n",
        "            return np.random.randint(len(self.mab.arms))\n",
        "        else:\n",
        "            return self.memory[tuple(context)]\n",
        "\n",
        "\n",
        "    def sampling(self, timesteps_T:int):\n",
        "        for t in range(timesteps_T):\n",
        "            ctxt = self.mab.get_context()\n",
        "            arm_to_pull = self.arm_to_pull(ctxt)\n",
        "            reward, regret = self.mab.sample(arm_to_pull)\n",
        "            ##### YOU SHOULD NOT ACCESS THE TRUE LABEL ######\n",
        "            self.memory[tuple(ctxt)] = self.mab._current_true_label\n",
        "            #################################################\n",
        "            self.rewards.append(reward)\n",
        "            self.regrets.append(regret)\n",
        "            self.arms_drawn.append(arm_to_pull)"
      ],
      "metadata": {
        "id": "NEWURKZJ5SfJ"
      },
      "execution_count": 117,
      "outputs": []
    },
    {
      "cell_type": "markdown",
      "source": [
        "## 3. An experimental setup.\n",
        "The goal of the homework is for you to design a contextual bandits algorithm that achieves cumulative reward close to the memory-based algorithm on the breast cancer classification dataset.\n",
        "- The final mark is based on a 3 pages report of your experiments and algorithmic design choices.\n",
        "- Justify the design choices by adding references to research articles.\n",
        "- Justify the design choices by adding cumulative rewards curves.\n",
        "- You can try whatever you want but keep a critical mind by looking at the memory usage of your algorithm as well as runtimes: high cumulative reward is not everything.\n",
        "- Look at the train/test misclassifications of your algorithms after learning.\n",
        "- When you are done, send your report as .pdf to hector.kohler@inria.fr\n"
      ],
      "metadata": {
        "id": "NUHmnMorCKuc"
      }
    },
    {
      "cell_type": "code",
      "source": [
        "X, y = datasets.load_breast_cancer(return_X_y=True)\n",
        "X_train, X_test, y_train, y_test = split(X, y, test_size=0.25, random_state=42)\n",
        "contextual_bandits = SupervisedLearningAsBandits(X_train, y_train)\n",
        "repetitions = 100\n",
        "timesteps_per_repet = 10000\n",
        "\n",
        "cum_rewards = np.zeros((repetitions, timesteps_per_repet))\n",
        "for repets in range(repetitions):\n",
        "    ctxt_bandit_algo_random = UniformSamplingForCB(contextual_bandits)\n",
        "    ctxt_bandit_algo_random.sampling(timesteps_per_repet)\n",
        "    cum_rewards[repets] = cumul_regret(ctxt_bandit_algo_random.rewards)\n",
        "\n",
        "plot_mean_std_cumul_regret(cum_rewards, 'uniform')\n",
        "\n",
        "cum_rewards = np.zeros((repetitions, timesteps_per_repet))\n",
        "for repets in range(repetitions):\n",
        "    ctxt_bandit_algo_memory = ContextMemory(contextual_bandits)\n",
        "    ctxt_bandit_algo_memory.sampling(timesteps_per_repet)\n",
        "    cum_rewards[repets] = cumul_regret(ctxt_bandit_algo_memory.rewards)\n",
        "\n",
        "plot_mean_std_cumul_regret(cum_rewards, 'memory')\n",
        "plt.legend()\n",
        "plt.xlabel(\"T\")\n",
        "plt.ylabel(\"Cumulative Reward\")"
      ],
      "metadata": {
        "colab": {
          "base_uri": "https://localhost:8080/",
          "height": 466
        },
        "id": "lQZdhj_130Ck",
        "outputId": "e4309be9-65ea-45eb-934f-066e625032fe"
      },
      "execution_count": 118,
      "outputs": [
        {
          "output_type": "execute_result",
          "data": {
            "text/plain": [
              "Text(0, 0.5, 'Cumulative Reward')"
            ]
          },
          "metadata": {},
          "execution_count": 118
        },
        {
          "output_type": "display_data",
          "data": {
            "text/plain": [
              "<Figure size 640x480 with 1 Axes>"
            ],
            "image/png": "[encoded data removed]"
          },
          "metadata": {}
        }
      ]
    },
    {
      "cell_type": "code",
      "source": [
        "def get_misclassif(X, y, contextual_bandit_algo):\n",
        "    misclassif = 0\n",
        "    for x_n, y_n in zip(X,y):\n",
        "        arm = contextual_bandit_algo.arm_to_pull(x_n)\n",
        "        is_misclassif = contextual_bandit_algo.mab.arms[arm].label != y_n\n",
        "        # can also do this !contextual_bandit_algo.mab.arms[arm].sample_reward(y_n)\n",
        "        misclassif += is_misclassif\n",
        "    return misclassif/len(X) * 100"
      ],
      "metadata": {
        "id": "Csvm_flpElnE"
      },
      "execution_count": 119,
      "outputs": []
    },
    {
      "cell_type": "code",
      "source": [
        "print(\"The test misclassif rate after learning of the contextual bandits algorithm {} is: {} %\".format(\"random\", get_misclassif(X_test,y_test, ctxt_bandit_algo_random)))\n",
        "print(\"The test misclassif rate after learning of the contextual bandits algorithm {} is: {} %\".format(\"Memory-based\", get_misclassif(X_test,y_test, ctxt_bandit_algo_memory)))"
      ],
      "metadata": {
        "colab": {
          "base_uri": "https://localhost:8080/"
        },
        "id": "IxU6O3ZWHFIl",
        "outputId": "f987fc1a-1e5e-4615-c918-a1de51370501"
      },
      "execution_count": 120,
      "outputs": [
        {
          "output_type": "stream",
          "name": "stdout",
          "text": [
            "The test misclassif rate after learning of the contextual bandits algorithm random is: 47.55244755244755 %\n",
            "The test misclassif rate after learning of the contextual bandits algorithm Memory-based is: 0.0 %\n"
          ]
        }
      ]
    },
    {
      "cell_type": "code",
      "source": [
        "print(\"The train misclassif rate after learning of the contextual bandits algorithm {} is: {} %\".format(\"random\", get_misclassif(X_train,y_train, ctxt_bandit_algo_random)))\n",
        "print(\"The train misclassif rate after learning of the contextual bandits algorithm {} is: {} %\".format(\"Memory-based\", get_misclassif(X_train,y_train, ctxt_bandit_algo_memory)))"
      ],
      "metadata": {
        "colab": {
          "base_uri": "https://localhost:8080/"
        },
        "id": "b3w58AHeFIUd",
        "outputId": "36e8f1c4-a514-428f-9528-940712c7ea35"
      },
      "execution_count": 121,
      "outputs": [
        {
          "output_type": "stream",
          "name": "stdout",
          "text": [
            "The train misclassif rate after learning of the contextual bandits algorithm random is: 52.58215962441315 %\n",
            "The train misclassif rate after learning of the contextual bandits algorithm Memory-based is: 0.0 %\n"
          ]
        }
      ]
    }
  ]
}